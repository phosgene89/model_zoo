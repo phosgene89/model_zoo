{
 "cells": [
  {
   "cell_type": "markdown",
   "metadata": {},
   "source": [
    "# Multi-disentangled-features Gaussian Processes Variational AutoEncoder (MGP-VAE)"
   ]
  },
  {
   "cell_type": "code",
   "execution_count": 2,
   "metadata": {},
   "outputs": [
    {
     "name": "stderr",
     "output_type": "stream",
     "text": [
      "usage: ipykernel_launcher.py [-h] [--cuda CUDA] [--dataset DATASET]\n",
      "                             [--batch_size BATCH_SIZE]\n",
      "                             [--test_batch_size TEST_BATCH_SIZE]\n",
      "                             [--image_size IMAGE_SIZE]\n",
      "                             [--num_channels NUM_CHANNELS]\n",
      "                             [--num_frames NUM_FRAMES] [--num_dim NUM_DIM]\n",
      "                             [--num_fea NUM_FEA] [--fea FEA]\n",
      "                             [--zero_mean_fea ZERO_MEAN_FEA]\n",
      "                             [--mean_fea_s MEAN_FEA_S]\n",
      "                             [--mean_fea_e MEAN_FEA_E] [--keep_rho KEEP_RHO]\n",
      "                             [--beta BETA] [--lrate LRATE] [--beta_1 BETA_1]\n",
      "                             [--beta_2 BETA_2] [--encoder_save ENCODER_SAVE]\n",
      "                             [--decoder_save DECODER_SAVE]\n",
      "                             [--log_file LOG_FILE] [--load_saved LOAD_SAVED]\n",
      "                             [--start_epoch START_EPOCH]\n",
      "                             [--end_epoch END_EPOCH]\n",
      "                             [--is_training IS_TRAINING]\n",
      "                             [--num_points_visualization NUM_POINTS_VISUALIZATION]\n",
      "                             [--num_epochs_geodesic NUM_EPOCHS_GEODESIC]\n",
      "                             [--max_geo_iter MAX_GEO_ITER]\n",
      "                             [--num_samples_input NUM_SAMPLES_INPUT]\n",
      "                             [--num_samples_output NUM_SAMPLES_OUTPUT]\n",
      "                             [--latent_weight LATENT_WEIGHT]\n",
      "                             [--step_size STEP_SIZE] [--threshold THRESHOLD]\n",
      "ipykernel_launcher.py: error: unrecognized arguments: -f C:\\Users\\Greg\\AppData\\Roaming\\jupyter\\runtime\\kernel-726dc668-7754-49b4-844e-09f7ef20faa7.json\n"
     ]
    },
    {
     "ename": "SystemExit",
     "evalue": "2",
     "output_type": "error",
     "traceback": [
      "An exception has occurred, use %tb to see the full traceback.\n",
      "\u001b[1;31mSystemExit\u001b[0m\u001b[1;31m:\u001b[0m 2\n"
     ]
    }
   ],
   "source": [
    "import torch\n",
    "import torch.nn as nn\n",
    "from torchvision.utils import save_image\n",
    "import numpy as np\n",
    "import matplotlib\n",
    "import matplotlib.pyplot as plt\n",
    "import argparse\n",
    "import os\n",
    "from itertools import cycle\n",
    "from torch.utils.data import DataLoader\n",
    "#from tensorboard import SummaryWriter\n",
    "from torchvision.utils import save_image\n",
    "\n",
    "from MGP_VAE.vid_process import resize_cropped, resize_keepAR, resize_mnist\n",
    "from MGP_VAE.flags import *\n",
    "from MGP_VAE.networks import Encoder, Decoder\n",
    "from MGP_VAE.utils import weights_init, mse_loss, plot_image, plot_training_images\n",
    "from MGP_VAE.covariance_fns import *\n",
    "from MGP_VAE.flags import *\n",
    "from MGP_VAE.setup_priors import *\n",
    "from MGP_VAE.dataloader import *\n",
    "\n",
    "from dataset_utils import GenericDataset, SpatiotemporalDataset\n",
    "\n",
    "torch.cuda.empty_cache()"
   ]
  },
  {
   "cell_type": "code",
   "execution_count": null,
   "metadata": {},
   "outputs": [],
   "source": [
    "N_SAMPLES = 10000\n",
    "N_CHANNELS = 1\n",
    "IM_HEIGHT = 64\n",
    "IM_WIDTH = 64\n",
    "FORECAST_HORIZON = 10\n",
    "LAGS = 10\n",
    "MNIST = False\n",
    "\n",
    "if MNIST:\n",
    "    \n",
    "    X = np.load(\"data/mnist_test_seq.npy\").swapaxes(0,1)\n",
    "    X = np.expand_dims(X, 2)\n",
    "    trainDataset = GenericDataset(X[0:700], FORECAST_HORIZON, LAGS)\n",
    "    validDataset = GenericDataset(X[700:], FORECAST_HORIZON, LAGS)\n",
    "    \n",
    "else:\n",
    "    \n",
    "    X = np.random.normal(0, 1, (N_SAMPLES, N_CHANNELS, IM_HEIGHT, IM_WIDTH)).astype(np.float32)\n",
    "    trainDataset = SpatiotemporalDataset(X, FORECAST_HORIZON, LAGS)\n",
    "    validDataset = SpatiotemporalDataset(X, FORECAST_HORIZON, LAGS)"
   ]
  },
  {
   "cell_type": "code",
   "execution_count": null,
   "metadata": {},
   "outputs": [],
   "source": []
  },
  {
   "cell_type": "code",
   "execution_count": null,
   "metadata": {},
   "outputs": [],
   "source": []
  },
  {
   "cell_type": "code",
   "execution_count": null,
   "metadata": {},
   "outputs": [],
   "source": []
  },
  {
   "cell_type": "code",
   "execution_count": null,
   "metadata": {},
   "outputs": [],
   "source": []
  },
  {
   "cell_type": "code",
   "execution_count": null,
   "metadata": {},
   "outputs": [],
   "source": []
  },
  {
   "cell_type": "code",
   "execution_count": null,
   "metadata": {},
   "outputs": [],
   "source": []
  },
  {
   "cell_type": "code",
   "execution_count": null,
   "metadata": {},
   "outputs": [],
   "source": []
  }
 ],
 "metadata": {
  "kernelspec": {
   "display_name": "Python 3",
   "language": "python",
   "name": "python3"
  },
  "language_info": {
   "codemirror_mode": {
    "name": "ipython",
    "version": 3
   },
   "file_extension": ".py",
   "mimetype": "text/x-python",
   "name": "python",
   "nbconvert_exporter": "python",
   "pygments_lexer": "ipython3",
   "version": "3.7.7"
  }
 },
 "nbformat": 4,
 "nbformat_minor": 4
}
